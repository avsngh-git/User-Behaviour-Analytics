{
 "cells": [
  {
   "cell_type": "code",
   "execution_count": 13,
   "metadata": {},
   "outputs": [],
   "source": [
    "import boto3"
   ]
  },
  {
   "cell_type": "code",
   "execution_count": 5,
   "metadata": {},
   "outputs": [
    {
     "ename": "ImportError",
     "evalue": "cannot import name 'logger' from partially initialized module 'boto_functions.ec2_functions' (most likely due to a circular import) (/home/avinash/Data-Science/User-Behaviour-Analytics/User-Behaviour-Analytics/boto_functions/ec2_functions.py)",
     "output_type": "error",
     "traceback": [
      "\u001b[0;31m---------------------------------------------------------------------------\u001b[0m",
      "\u001b[0;31mImportError\u001b[0m                               Traceback (most recent call last)",
      "\u001b[1;32m/home/avinash/Data-Science/User-Behaviour-Analytics/User-Behaviour-Analytics/test.ipynb Cell 2\u001b[0m in \u001b[0;36m<cell line: 1>\u001b[0;34m()\u001b[0m\n\u001b[0;32m----> <a href='vscode-notebook-cell://wsl%2Bubuntu/home/avinash/Data-Science/User-Behaviour-Analytics/User-Behaviour-Analytics/test.ipynb#ch0000018vscode-remote?line=0'>1</a>\u001b[0m \u001b[39mfrom\u001b[39;00m \u001b[39mboto_functions\u001b[39;00m\u001b[39m.\u001b[39;00m\u001b[39mec2_functions\u001b[39;00m  \u001b[39mimport\u001b[39;00m crea\n",
      "File \u001b[0;32m~/Data-Science/User-Behaviour-Analytics/User-Behaviour-Analytics/boto_functions/ec2_functions.py:4\u001b[0m, in \u001b[0;36m<module>\u001b[0;34m\u001b[0m\n\u001b[1;32m      2\u001b[0m \u001b[39mfrom\u001b[39;00m \u001b[39mbotocore\u001b[39;00m\u001b[39m.\u001b[39;00m\u001b[39mexceptions\u001b[39;00m \u001b[39mimport\u001b[39;00m ClientError\n\u001b[1;32m      3\u001b[0m \u001b[39mimport\u001b[39;00m \u001b[39mjson\u001b[39;00m\n\u001b[0;32m----> 4\u001b[0m \u001b[39mfrom\u001b[39;00m \u001b[39mboto_functions\u001b[39;00m\u001b[39m.\u001b[39;00m\u001b[39mec2_functions\u001b[39;00m \u001b[39mimport\u001b[39;00m logger\n\u001b[1;32m      5\u001b[0m \u001b[39mimport\u001b[39;00m \u001b[39msubprocess\u001b[39;00m\n\u001b[1;32m      9\u001b[0m \u001b[39mdef\u001b[39;00m \u001b[39mcreate_key_ec2\u001b[39m(key_name, ec2):\n",
      "\u001b[0;31mImportError\u001b[0m: cannot import name 'logger' from partially initialized module 'boto_functions.ec2_functions' (most likely due to a circular import) (/home/avinash/Data-Science/User-Behaviour-Analytics/User-Behaviour-Analytics/boto_functions/ec2_functions.py)"
     ]
    }
   ],
   "source": []
  },
  {
   "cell_type": "code",
   "execution_count": 2,
   "metadata": {},
   "outputs": [],
   "source": [
    "s3_resource = boto3.resource('s3')"
   ]
  },
  {
   "cell_type": "code",
   "execution_count": 4,
   "metadata": {},
   "outputs": [],
   "source": [
    "bucket = 'test-for-infra-script'"
   ]
  },
  {
   "cell_type": "code",
   "execution_count": 5,
   "metadata": {},
   "outputs": [
    {
     "data": {
      "text/plain": [
       "{'ResponseMetadata': {'RequestId': 'P3NCJC69SA6KW5JQ',\n",
       "  'HostId': 'bvg7V/obf0UNfavNkc1i+npPXYrusxCzNK1OXAvyyoql5wT6nSPR6AnKdwRB2XVqgV78oDs3eKQ=',\n",
       "  'HTTPStatusCode': 200,\n",
       "  'HTTPHeaders': {'x-amz-id-2': 'bvg7V/obf0UNfavNkc1i+npPXYrusxCzNK1OXAvyyoql5wT6nSPR6AnKdwRB2XVqgV78oDs3eKQ=',\n",
       "   'x-amz-request-id': 'P3NCJC69SA6KW5JQ',\n",
       "   'date': 'Tue, 19 Jul 2022 07:21:26 GMT',\n",
       "   'location': 'http://test-for-infra-script.s3.amazonaws.com/',\n",
       "   'server': 'AmazonS3',\n",
       "   'content-length': '0'},\n",
       "  'RetryAttempts': 0},\n",
       " 'Location': 'http://test-for-infra-script.s3.amazonaws.com/'}"
      ]
     },
     "execution_count": 5,
     "metadata": {},
     "output_type": "execute_result"
    }
   ],
   "source": [
    "create_bucket(bucket_name=bucket, s3_resource=s3_resource, logger=logger)"
   ]
  },
  {
   "cell_type": "code",
   "execution_count": 5,
   "metadata": {},
   "outputs": [
    {
     "data": {
      "text/plain": [
       "{'ResponseMetadata': {'RequestId': '1E6MX85V0WG8JSQ2',\n",
       "  'HostId': 'Rp1Q1WevwcB1U8vFujQT41bYmStpLeg7AZi5VSq/3ESBeO8wJcuqFiN4WaYS7NFrH8h4oUVV00I=',\n",
       "  'HTTPStatusCode': 204,\n",
       "  'HTTPHeaders': {'x-amz-id-2': 'Rp1Q1WevwcB1U8vFujQT41bYmStpLeg7AZi5VSq/3ESBeO8wJcuqFiN4WaYS7NFrH8h4oUVV00I=',\n",
       "   'x-amz-request-id': '1E6MX85V0WG8JSQ2',\n",
       "   'date': 'Tue, 19 Jul 2022 07:31:09 GMT',\n",
       "   'server': 'AmazonS3'},\n",
       "  'RetryAttempts': 0}}"
      ]
     },
     "execution_count": 5,
     "metadata": {},
     "output_type": "execute_result"
    }
   ],
   "source": [
    "delete_bucket(bucket_name=bucket, s3_resource=s3_resource, logger=logger)"
   ]
  },
  {
   "cell_type": "code",
   "execution_count": 1,
   "metadata": {},
   "outputs": [
    {
     "name": "stdout",
     "output_type": "stream",
     "text": [
      "Your Computer Name is:MSI\n",
      "Your Computer IP Address is:127.0.1.1\n"
     ]
    }
   ],
   "source": [
    "import socket\n",
    "hostname = socket.gethostname()   \n",
    "IPAddr = socket.gethostbyname(hostname)   \n",
    "print(\"Your Computer Name is:\" + hostname)   \n",
    "print(\"Your Computer IP Address is:\" + IPAddr)"
   ]
  },
  {
   "cell_type": "code",
   "execution_count": 10,
   "metadata": {},
   "outputs": [
    {
     "name": "stdout",
     "output_type": "stream",
     "text": [
      "122.161.240.125\n"
     ]
    }
   ],
   "source": [
    "#get my ip\n",
    "import subprocess\n",
    "ip = subprocess.run(['curl', '-s', 'http://whatismyip.akamai.com/'],stderr=subprocess.PIPE, text=True)\n",
    "print(ip.stderr)"
   ]
  },
  {
   "cell_type": "code",
   "execution_count": 38,
   "metadata": {},
   "outputs": [],
   "source": [
    "import subprocess\n",
    "def my_ip():\n",
    "    process = subprocess.Popen(['curl', '-s', 'http://whatismyip.akamai.com/'],stdout=subprocess.PIPE, stderr=subprocess.PIPE, text=True)\n",
    "    ip = process.communicate()\n",
    "    return ip[0]"
   ]
  },
  {
   "cell_type": "code",
   "execution_count": 39,
   "metadata": {},
   "outputs": [
    {
     "data": {
      "text/plain": [
       "'122.161.240.125'"
      ]
     },
     "execution_count": 39,
     "metadata": {},
     "output_type": "execute_result"
    }
   ],
   "source": [
    "ip = my_ip()\n",
    "ip"
   ]
  },
  {
   "cell_type": "code",
   "execution_count": 3,
   "metadata": {},
   "outputs": [
    {
     "data": {
      "text/plain": [
       "'122.161.240.125'"
      ]
     },
     "execution_count": 3,
     "metadata": {},
     "output_type": "execute_result"
    }
   ],
   "source": [
    "ip[0]"
   ]
  },
  {
   "cell_type": "code",
   "execution_count": 5,
   "metadata": {},
   "outputs": [],
   "source": [
    "def attach_ingress(my_ip, security_group, group_id, description):\n",
    "    cidr = my_ip+'/32'\n",
    "    response = security_group.authorize_ingress(\n",
    "        CidrIp=cidr,\n",
    "        FromPort=23,\n",
    "        GroupId= group_id,\n",
    "        IpProtocol='tcp',\n",
    "        ToPort=123 \n",
    "    )\n",
    "\n",
    "def attach_egress(my_ip, security_group):\n",
    "    \"\"\" attaches egress rule, Port is hardcoded, free to edit\"\"\"\n",
    "    cidr = my_ip+'/32'\n",
    "    response = security_group.authorize_egress(\n",
    "        IpPermissions=[\n",
    "        {\n",
    "            'FromPort': 8080,\n",
    "            'IpProtocol': 'tcp',\n",
    "            'IpRanges': [\n",
    "                {\n",
    "                    'CidrIp': cidr,\n",
    "                    'Description': 'my_ip'\n",
    "                },\n",
    "            ],\n",
    "            'ToPort': 8080\n",
    "        },\n",
    "    ],\n",
    "    )"
   ]
  },
  {
   "cell_type": "code",
   "execution_count": 6,
   "metadata": {},
   "outputs": [],
   "source": [
    "ec2 = boto3.resource('ec2')"
   ]
  },
  {
   "cell_type": "code",
   "execution_count": 7,
   "metadata": {},
   "outputs": [],
   "source": [
    "\n",
    "security_group = ec2.SecurityGroup('sg-0c7f8f5f8b15ee00c')"
   ]
  },
  {
   "cell_type": "code",
   "execution_count": 8,
   "metadata": {},
   "outputs": [
    {
     "data": {
      "text/plain": [
       "'sg-0c7f8f5f8b15ee00c'"
      ]
     },
     "execution_count": 8,
     "metadata": {},
     "output_type": "execute_result"
    }
   ],
   "source": [
    "ec2_security_group_id = security_group.group_id\n",
    "ec2_security_group_id"
   ]
  },
  {
   "cell_type": "code",
   "execution_count": 13,
   "metadata": {},
   "outputs": [],
   "source": [
    "from botocore.exceptions import ClientError\n",
    "def create_instance(ec2, security_group_id, instance_profile_name, instance_type):\n",
    "    \"\"\" creates an EC2 instance for our computing needs\n",
    "    Hardcoded: instance number max and min values, OS image_id, volumetype, availability zone, \n",
    "    \"\"\"\n",
    "    try:\n",
    "        instance = ec2.create_instances(\n",
    "            BlockDeviceMappings=[\n",
    "                {\n",
    "                    'DeviceName': '/dev/sdh',\n",
    "                    'Ebs': {\n",
    "                        'DeleteOnTermination': False,\n",
    "                        'VolumeSize': 8,\n",
    "                        'VolumeType': 'gp2'\n",
    "                    },\n",
    "                },\n",
    "            ],\n",
    "            ImageId='ami-08df646e18b182346',\n",
    "            InstanceType=instance_type,\n",
    "            MaxCount=1,\n",
    "            MinCount=1,\n",
    "            Monitoring={\n",
    "                'Enabled': False\n",
    "            },\n",
    "            SecurityGroupIds=[\n",
    "                security_group_id\n",
    "            ],\n",
    "            IamInstanceProfile={\n",
    "                'Name': instance_profile_name\n",
    "            },\n",
    "            \n",
    "        )\n",
    "    except ClientError:\n",
    "        raise\n",
    "    else:\n",
    "        return instance"
   ]
  },
  {
   "cell_type": "code",
   "execution_count": 15,
   "metadata": {},
   "outputs": [],
   "source": [
    "instance = create_instance(ec2=ec2, security_group_id=ec2_security_group_id, instance_profile_name='ec2-role-project-sr1-19-7-2022-instance-profile', instance_type='t2.large')"
   ]
  },
  {
   "cell_type": "code",
   "execution_count": 26,
   "metadata": {},
   "outputs": [
    {
     "data": {
      "text/plain": [
       "ec2.Instance(id='i-065e425bd2e496e5f')"
      ]
     },
     "execution_count": 26,
     "metadata": {},
     "output_type": "execute_result"
    }
   ],
   "source": []
  },
  {
   "cell_type": "code",
   "execution_count": 29,
   "metadata": {},
   "outputs": [],
   "source": [
    "response = instance[0].describe_attribute(\n",
    "    Attribute='instanceType'\n",
    ")"
   ]
  },
  {
   "cell_type": "code",
   "execution_count": 31,
   "metadata": {},
   "outputs": [
    {
     "data": {
      "text/plain": [
       "'i-065e425bd2e496e5f'"
      ]
     },
     "execution_count": 31,
     "metadata": {},
     "output_type": "execute_result"
    }
   ],
   "source": [
    "response['InstanceId']"
   ]
  },
  {
   "cell_type": "code",
   "execution_count": 7,
   "metadata": {},
   "outputs": [],
   "source": [
    "from botocore.exceptions import ClientError\n",
    "def create_cluster(client, name, key_name):\n",
    "    \"\"\"Creates an emr cluster\n",
    "    Hardcoded ReleaseLabel: Version of EMR release, change if needed\n",
    "    Hardcoded Instances: InstanceGroups: Name, Market, InstanceRole, InstanceType, InstanceCount, EBSconfiguration \"\"\"\n",
    "\n",
    "    try:\n",
    "        response = client.run_job_flow(\n",
    "            Name=name,\n",
    "            ReleaseLabel='emr-6.7.0',\n",
    "            Instances={\n",
    "                'InstanceGroups': [\n",
    "                    {\n",
    "                        'Name': 'master',\n",
    "                        'Market': 'SPOT',\n",
    "                        'InstanceRole': 'MASTER',\n",
    "                        'InstanceType': 'm5.xlarge',\n",
    "                        'InstanceCount': 1,\n",
    "                        'EbsConfiguration': {\n",
    "                            'EbsBlockDeviceConfigs': [\n",
    "                                {\n",
    "                                    'VolumeSpecification': {\n",
    "                                        'VolumeType': 'gp2',\n",
    "                                        'SizeInGB': 32,\n",
    "                                        \n",
    "                                    },\n",
    "                                    'VolumesPerInstance': 2\n",
    "                                },\n",
    "                            ]\n",
    "                        },\n",
    "                    },\n",
    "                    {\n",
    "                        'Name': 'core',\n",
    "                        'Market': 'SPOT',\n",
    "                        'InstanceRole': 'CORE',\n",
    "                        'InstanceType': 'm5.xlarge',\n",
    "                        'InstanceCount': 2,\n",
    "                        'EbsConfiguration': {\n",
    "                            'EbsBlockDeviceConfigs': [\n",
    "                                {\n",
    "                                    'VolumeSpecification': {\n",
    "                                        'VolumeType': 'gp2',\n",
    "                                        'SizeInGB': 32,\n",
    "                                        \n",
    "                                    },\n",
    "                                    'VolumesPerInstance': 2\n",
    "                                },\n",
    "                            ]\n",
    "                        },\n",
    "                    }\n",
    "                ],\n",
    "                'Ec2KeyName': key_name,\n",
    "                'KeepJobFlowAliveWhenNoSteps': False,\n",
    "                'TerminationProtected': False\n",
    "            },\n",
    "            JobFlowRole='EMR_EC2_DefaultRole',\n",
    "            ServiceRole='EMR_Service_Role',\n",
    "            Applications=[\n",
    "                {\n",
    "                    'Name': 'spark',\n",
    "                    \n",
    "                    \n",
    "                },\n",
    "            ],\n",
    "            \n",
    "            \n",
    "            \n",
    "            \n",
    "            ScaleDownBehavior='TERMINATE_AT_TASK_COMPLETION'\n",
    "        )\n",
    "    except ClientError:\n",
    "        raise\n",
    "    else:\n",
    "        return response"
   ]
  },
  {
   "cell_type": "code",
   "execution_count": 17,
   "metadata": {},
   "outputs": [],
   "source": [
    "emr = boto3.client('emr')\n",
    "\n",
    "cluster = create_cluster(emr, 'test', 'ec2_emr')"
   ]
  },
  {
   "cell_type": "code",
   "execution_count": 8,
   "metadata": {},
   "outputs": [],
   "source": [
    "redshift = boto3.client('redshift')"
   ]
  },
  {
   "cell_type": "code",
   "execution_count": 24,
   "metadata": {},
   "outputs": [],
   "source": [
    "from botocore.exceptions import ClientError\n",
    "def create_redshift_cluster(client, db_name, cluster_identifier, cluster_type, node_type, master_username, master_password, iam_role_arn):\n",
    "    \"\"\"Creates an AWS Redshift Cluster\"\"\"\n",
    "    try:\n",
    "        cluster = client.create_cluster(\n",
    "            DBName=db_name,\n",
    "            ClusterIdentifier=cluster_identifier,\n",
    "            ClusterType=cluster_type,\n",
    "            NodeType=node_type,\n",
    "            MasterUsername=master_username,\n",
    "            MasterUserPassword=master_password,  \n",
    "            AutomatedSnapshotRetentionPeriod=0,\n",
    "            ManualSnapshotRetentionPeriod=1,\n",
    "            Port=5739,\n",
    "            IamRoles=[\n",
    "                iam_role_arn\n",
    "            ],          \n",
    "            PubliclyAccessible=True,\n",
    "            DefaultIamRoleArn=iam_role_arn,\n",
    "        )\n",
    "        \n",
    "    \n",
    "    except ClientError:\n",
    "        raise\n",
    "    else:\n",
    "        return cluster"
   ]
  },
  {
   "cell_type": "code",
   "execution_count": 19,
   "metadata": {},
   "outputs": [],
   "source": [
    "cluster_identifier = 'redshift-project-1'\n",
    "cluster_type = 'single-node'\n",
    "node_type = 'dc2.large'\n",
    "redshift_cluster = create_redshift_cluster(client=redshift, db_name='test_db'  ,cluster_identifier=cluster_identifier, cluster_type=cluster_type, \n",
    "        node_type=node_type, master_username='redshift-user-project-1', master_password='Redshift-project-1', iam_role_arn='arn:aws:iam::130747997504:role/redshift-role' )"
   ]
  },
  {
   "cell_type": "code",
   "execution_count": 3,
   "metadata": {},
   "outputs": [],
   "source": [
    "sql_statements = (open(\"./redshiftsetup/setup.sql\", 'r')).read().split(';')\n"
   ]
  },
  {
   "cell_type": "code",
   "execution_count": 8,
   "metadata": {},
   "outputs": [
    {
     "data": {
      "text/plain": [
       "'\\nDROP TABLE IF EXISTS spectrum.classified_movie_review'"
      ]
     },
     "execution_count": 8,
     "metadata": {},
     "output_type": "execute_result"
    }
   ],
   "source": [
    "sql_statements[3]"
   ]
  },
  {
   "cell_type": "code",
   "execution_count": 21,
   "metadata": {},
   "outputs": [],
   "source": [
    "redshift_data_client = boto3.client('redshift-data')"
   ]
  },
  {
   "cell_type": "code",
   "execution_count": 25,
   "metadata": {},
   "outputs": [],
   "source": [
    "def run_sql_commands(client, cluster_identifier, sql_script, db_user):\n",
    "    try:\n",
    "        response = client.batch_execute_statement(\n",
    "            ClusterIdentifier=cluster_identifier,\n",
    "            Database='test_db',\n",
    "            DbUser=db_user,\n",
    "            Sqls=[\n",
    "                sql_script\n",
    "            ],\n",
    "        )\n",
    "    except ClientError:\n",
    "        raise\n",
    "    "
   ]
  },
  {
   "cell_type": "code",
   "execution_count": 26,
   "metadata": {},
   "outputs": [],
   "source": [
    "run_sql_commands(client=redshift_data_client, cluster_identifier=cluster_identifier, sql_script=sql_statements, db_user='redshift-user-project-1')"
   ]
  },
  {
   "cell_type": "code",
   "execution_count": 10,
   "metadata": {},
   "outputs": [],
   "source": [
    "from fabric.transfer import Transfer\n",
    "from fabric.connection import Connection"
   ]
  },
  {
   "cell_type": "code",
   "execution_count": 11,
   "metadata": {},
   "outputs": [],
   "source": [
    "connect = Connection(host='13.127.102.224')"
   ]
  },
  {
   "cell_type": "code",
   "execution_count": 12,
   "metadata": {},
   "outputs": [
    {
     "ename": "AuthenticationException",
     "evalue": "Authentication failed.",
     "output_type": "error",
     "traceback": [
      "\u001b[0;31m---------------------------------------------------------------------------\u001b[0m",
      "\u001b[0;31mAuthenticationException\u001b[0m                   Traceback (most recent call last)",
      "\u001b[1;32m/home/avinash/Data-Science/User-Behaviour-Analytics/User-Behaviour-Analytics/test.ipynb Cell 33\u001b[0m in \u001b[0;36m<cell line: 1>\u001b[0;34m()\u001b[0m\n\u001b[0;32m----> <a href='vscode-notebook-cell://wsl%2Bubuntu/home/avinash/Data-Science/User-Behaviour-Analytics/User-Behaviour-Analytics/test.ipynb#X44sdnNjb2RlLXJlbW90ZQ%3D%3D?line=0'>1</a>\u001b[0m connect\u001b[39m.\u001b[39;49mput(\u001b[39m'\u001b[39;49m\u001b[39m./boto_functions/s3functions.py\u001b[39;49m\u001b[39m'\u001b[39;49m, \u001b[39m'\u001b[39;49m\u001b[39m/test-ssh\u001b[39;49m\u001b[39m'\u001b[39;49m)\n",
      "File \u001b[0;32m~/anaconda3/lib/python3.9/site-packages/fabric/connection.py:870\u001b[0m, in \u001b[0;36mConnection.put\u001b[0;34m(self, *args, **kwargs)\u001b[0m\n\u001b[1;32m    861\u001b[0m \u001b[39mdef\u001b[39;00m \u001b[39mput\u001b[39m(\u001b[39mself\u001b[39m, \u001b[39m*\u001b[39margs, \u001b[39m*\u001b[39m\u001b[39m*\u001b[39mkwargs):\n\u001b[1;32m    862\u001b[0m     \u001b[39m\"\"\"\u001b[39;00m\n\u001b[1;32m    863\u001b[0m \u001b[39m    Put a local file (or file-like object) to the remote filesystem.\u001b[39;00m\n\u001b[1;32m    864\u001b[0m \n\u001b[0;32m   (...)\u001b[0m\n\u001b[1;32m    868\u001b[0m \u001b[39m    .. versionadded:: 2.0\u001b[39;00m\n\u001b[1;32m    869\u001b[0m \u001b[39m    \"\"\"\u001b[39;00m\n\u001b[0;32m--> 870\u001b[0m     \u001b[39mreturn\u001b[39;00m Transfer(\u001b[39mself\u001b[39;49m)\u001b[39m.\u001b[39;49mput(\u001b[39m*\u001b[39;49margs, \u001b[39m*\u001b[39;49m\u001b[39m*\u001b[39;49mkwargs)\n",
      "File \u001b[0;32m~/anaconda3/lib/python3.9/site-packages/fabric/transfer.py:255\u001b[0m, in \u001b[0;36mTransfer.put\u001b[0;34m(self, local, remote, preserve_mode)\u001b[0m\n\u001b[1;32m    253\u001b[0m         remote \u001b[39m=\u001b[39m local_base\n\u001b[1;32m    254\u001b[0m         debug(\u001b[39m\"\u001b[39m\u001b[39mMassaged empty remote path into \u001b[39m\u001b[39m{!r}\u001b[39;00m\u001b[39m\"\u001b[39m\u001b[39m.\u001b[39mformat(remote))\n\u001b[0;32m--> 255\u001b[0m \u001b[39melif\u001b[39;00m \u001b[39mself\u001b[39;49m\u001b[39m.\u001b[39;49mis_remote_dir(remote):\n\u001b[1;32m    256\u001b[0m     \u001b[39m# non-empty local_base implies a) text file path or b) FLO which\u001b[39;00m\n\u001b[1;32m    257\u001b[0m     \u001b[39m# had a non-empty .name attribute. huzzah!\u001b[39;00m\n\u001b[1;32m    258\u001b[0m     \u001b[39mif\u001b[39;00m local_base:\n\u001b[1;32m    259\u001b[0m         remote \u001b[39m=\u001b[39m posixpath\u001b[39m.\u001b[39mjoin(remote, local_base)\n",
      "File \u001b[0;32m~/anaconda3/lib/python3.9/site-packages/fabric/transfer.py:42\u001b[0m, in \u001b[0;36mTransfer.is_remote_dir\u001b[0;34m(self, path)\u001b[0m\n\u001b[1;32m     40\u001b[0m \u001b[39mdef\u001b[39;00m \u001b[39mis_remote_dir\u001b[39m(\u001b[39mself\u001b[39m, path):\n\u001b[1;32m     41\u001b[0m     \u001b[39mtry\u001b[39;00m:\n\u001b[0;32m---> 42\u001b[0m         \u001b[39mreturn\u001b[39;00m stat\u001b[39m.\u001b[39mS_ISDIR(\u001b[39mself\u001b[39;49m\u001b[39m.\u001b[39;49msftp\u001b[39m.\u001b[39mstat(path)\u001b[39m.\u001b[39mst_mode)\n\u001b[1;32m     43\u001b[0m     \u001b[39mexcept\u001b[39;00m \u001b[39mIOError\u001b[39;00m:\n\u001b[1;32m     44\u001b[0m         \u001b[39mreturn\u001b[39;00m \u001b[39mFalse\u001b[39;00m\n",
      "File \u001b[0;32m~/anaconda3/lib/python3.9/site-packages/fabric/transfer.py:38\u001b[0m, in \u001b[0;36mTransfer.sftp\u001b[0;34m(self)\u001b[0m\n\u001b[1;32m     36\u001b[0m \u001b[39m@property\u001b[39m\n\u001b[1;32m     37\u001b[0m \u001b[39mdef\u001b[39;00m \u001b[39msftp\u001b[39m(\u001b[39mself\u001b[39m):\n\u001b[0;32m---> 38\u001b[0m     \u001b[39mreturn\u001b[39;00m \u001b[39mself\u001b[39;49m\u001b[39m.\u001b[39;49mconnection\u001b[39m.\u001b[39;49msftp()\n",
      "File \u001b[0;32m<decorator-gen-6>:2\u001b[0m, in \u001b[0;36msftp\u001b[0;34m(self)\u001b[0m\n",
      "File \u001b[0;32m~/anaconda3/lib/python3.9/site-packages/fabric/connection.py:29\u001b[0m, in \u001b[0;36mopens\u001b[0;34m(method, self, *args, **kwargs)\u001b[0m\n\u001b[1;32m     27\u001b[0m \u001b[39m@decorator\u001b[39m\n\u001b[1;32m     28\u001b[0m \u001b[39mdef\u001b[39;00m \u001b[39mopens\u001b[39m(method, \u001b[39mself\u001b[39m, \u001b[39m*\u001b[39margs, \u001b[39m*\u001b[39m\u001b[39m*\u001b[39mkwargs):\n\u001b[0;32m---> 29\u001b[0m     \u001b[39mself\u001b[39;49m\u001b[39m.\u001b[39;49mopen()\n\u001b[1;32m     30\u001b[0m     \u001b[39mreturn\u001b[39;00m method(\u001b[39mself\u001b[39m, \u001b[39m*\u001b[39margs, \u001b[39m*\u001b[39m\u001b[39m*\u001b[39mkwargs)\n",
      "File \u001b[0;32m~/anaconda3/lib/python3.9/site-packages/fabric/connection.py:636\u001b[0m, in \u001b[0;36mConnection.open\u001b[0;34m(self)\u001b[0m\n\u001b[1;32m    634\u001b[0m     \u001b[39mdel\u001b[39;00m kwargs[\u001b[39m\"\u001b[39m\u001b[39mkey_filename\u001b[39m\u001b[39m\"\u001b[39m]\n\u001b[1;32m    635\u001b[0m \u001b[39m# Actually connect!\u001b[39;00m\n\u001b[0;32m--> 636\u001b[0m \u001b[39mself\u001b[39;49m\u001b[39m.\u001b[39;49mclient\u001b[39m.\u001b[39;49mconnect(\u001b[39m*\u001b[39;49m\u001b[39m*\u001b[39;49mkwargs)\n\u001b[1;32m    637\u001b[0m \u001b[39mself\u001b[39m\u001b[39m.\u001b[39mtransport \u001b[39m=\u001b[39m \u001b[39mself\u001b[39m\u001b[39m.\u001b[39mclient\u001b[39m.\u001b[39mget_transport()\n",
      "File \u001b[0;32m~/anaconda3/lib/python3.9/site-packages/paramiko/client.py:435\u001b[0m, in \u001b[0;36mSSHClient.connect\u001b[0;34m(self, hostname, port, username, password, pkey, key_filename, timeout, allow_agent, look_for_keys, compress, sock, gss_auth, gss_kex, gss_deleg_creds, gss_host, banner_timeout, auth_timeout, gss_trust_dns, passphrase, disabled_algorithms)\u001b[0m\n\u001b[1;32m    432\u001b[0m \u001b[39melse\u001b[39;00m:\n\u001b[1;32m    433\u001b[0m     key_filenames \u001b[39m=\u001b[39m key_filename\n\u001b[0;32m--> 435\u001b[0m \u001b[39mself\u001b[39;49m\u001b[39m.\u001b[39;49m_auth(\n\u001b[1;32m    436\u001b[0m     username,\n\u001b[1;32m    437\u001b[0m     password,\n\u001b[1;32m    438\u001b[0m     pkey,\n\u001b[1;32m    439\u001b[0m     key_filenames,\n\u001b[1;32m    440\u001b[0m     allow_agent,\n\u001b[1;32m    441\u001b[0m     look_for_keys,\n\u001b[1;32m    442\u001b[0m     gss_auth,\n\u001b[1;32m    443\u001b[0m     gss_kex,\n\u001b[1;32m    444\u001b[0m     gss_deleg_creds,\n\u001b[1;32m    445\u001b[0m     t\u001b[39m.\u001b[39;49mgss_host,\n\u001b[1;32m    446\u001b[0m     passphrase,\n\u001b[1;32m    447\u001b[0m )\n",
      "File \u001b[0;32m~/anaconda3/lib/python3.9/site-packages/paramiko/client.py:766\u001b[0m, in \u001b[0;36mSSHClient._auth\u001b[0;34m(self, username, password, pkey, key_filenames, allow_agent, look_for_keys, gss_auth, gss_kex, gss_deleg_creds, gss_host, passphrase)\u001b[0m\n\u001b[1;32m    764\u001b[0m \u001b[39m# if we got an auth-failed exception earlier, re-raise it\u001b[39;00m\n\u001b[1;32m    765\u001b[0m \u001b[39mif\u001b[39;00m saved_exception \u001b[39mis\u001b[39;00m \u001b[39mnot\u001b[39;00m \u001b[39mNone\u001b[39;00m:\n\u001b[0;32m--> 766\u001b[0m     \u001b[39mraise\u001b[39;00m saved_exception\n\u001b[1;32m    767\u001b[0m \u001b[39mraise\u001b[39;00m SSHException(\u001b[39m\"\u001b[39m\u001b[39mNo authentication methods available\u001b[39m\u001b[39m\"\u001b[39m)\n",
      "File \u001b[0;32m~/anaconda3/lib/python3.9/site-packages/paramiko/client.py:742\u001b[0m, in \u001b[0;36mSSHClient._auth\u001b[0;34m(self, username, password, pkey, key_filenames, allow_agent, look_for_keys, gss_auth, gss_kex, gss_deleg_creds, gss_host, passphrase)\u001b[0m\n\u001b[1;32m    736\u001b[0m key \u001b[39m=\u001b[39m \u001b[39mself\u001b[39m\u001b[39m.\u001b[39m_key_from_filepath(\n\u001b[1;32m    737\u001b[0m     filename, pkey_class, passphrase\n\u001b[1;32m    738\u001b[0m )\n\u001b[1;32m    739\u001b[0m \u001b[39m# for 2-factor auth a successfully auth'd key will result\u001b[39;00m\n\u001b[1;32m    740\u001b[0m \u001b[39m# in ['password']\u001b[39;00m\n\u001b[1;32m    741\u001b[0m allowed_types \u001b[39m=\u001b[39m \u001b[39mset\u001b[39m(\n\u001b[0;32m--> 742\u001b[0m     \u001b[39mself\u001b[39;49m\u001b[39m.\u001b[39;49m_transport\u001b[39m.\u001b[39;49mauth_publickey(username, key)\n\u001b[1;32m    743\u001b[0m )\n\u001b[1;32m    744\u001b[0m two_factor \u001b[39m=\u001b[39m allowed_types \u001b[39m&\u001b[39m two_factor_types\n\u001b[1;32m    745\u001b[0m \u001b[39mif\u001b[39;00m \u001b[39mnot\u001b[39;00m two_factor:\n",
      "File \u001b[0;32m~/anaconda3/lib/python3.9/site-packages/paramiko/transport.py:1635\u001b[0m, in \u001b[0;36mTransport.auth_publickey\u001b[0;34m(self, username, key, event)\u001b[0m\n\u001b[1;32m   1632\u001b[0m \u001b[39mif\u001b[39;00m event \u001b[39mis\u001b[39;00m \u001b[39mnot\u001b[39;00m \u001b[39mNone\u001b[39;00m:\n\u001b[1;32m   1633\u001b[0m     \u001b[39m# caller wants to wait for event themselves\u001b[39;00m\n\u001b[1;32m   1634\u001b[0m     \u001b[39mreturn\u001b[39;00m []\n\u001b[0;32m-> 1635\u001b[0m \u001b[39mreturn\u001b[39;00m \u001b[39mself\u001b[39;49m\u001b[39m.\u001b[39;49mauth_handler\u001b[39m.\u001b[39;49mwait_for_response(my_event)\n",
      "File \u001b[0;32m~/anaconda3/lib/python3.9/site-packages/paramiko/auth_handler.py:259\u001b[0m, in \u001b[0;36mAuthHandler.wait_for_response\u001b[0;34m(self, event)\u001b[0m\n\u001b[1;32m    257\u001b[0m     \u001b[39mif\u001b[39;00m \u001b[39missubclass\u001b[39m(e\u001b[39m.\u001b[39m\u001b[39m__class__\u001b[39m, PartialAuthentication):\n\u001b[1;32m    258\u001b[0m         \u001b[39mreturn\u001b[39;00m e\u001b[39m.\u001b[39mallowed_types\n\u001b[0;32m--> 259\u001b[0m     \u001b[39mraise\u001b[39;00m e\n\u001b[1;32m    260\u001b[0m \u001b[39mreturn\u001b[39;00m []\n",
      "\u001b[0;31mAuthenticationException\u001b[0m: Authentication failed."
     ]
    }
   ],
   "source": [
    "connect.put('./boto_functions/s3functions.py', '/test-ssh')"
   ]
  },
  {
   "cell_type": "code",
   "execution_count": 14,
   "metadata": {},
   "outputs": [],
   "source": [
    "ec2_connect = boto3.client('ec2-instance-connect')"
   ]
  },
  {
   "cell_type": "code",
   "execution_count": 15,
   "metadata": {},
   "outputs": [],
   "source": [
    "connect_response = ec2_connect.send_ssh_public_key(\n",
    "    InstanceId='i-07d14cd70b99bc049',\n",
    "    InstanceOSUser='avinash_singh',\n",
    "    SSHPublicKey='ssh-rsa AAAAB3NzaC1yc2EAAAADAQABAAABAQC3FlHqj2eqCdrGHuA6dRjfZXQ4HX5lXEIRHaNbxEwE5Te7xNF7StwhrDtiV7IdT5fDqbRyGw/szPj3xGkNTVoElCZ2dDFb2qYZ1WLIpZwj/UhO9l2mgfjR56UojjQut5Jvn2KZ1OcyrNO0J83kCaJCV7JoVbXY79FBMUccYNY45zmv9+1FMCfY6i2jdIhwR6+yLk8oubL8lIPyq7X+6b9S0yKCkB7Peml1DvghlybpAIUrC9vofHt6XP4V1i0bImw1IlljQS+DUmULRFSccATDscCX9ajnj7Crhm0HAZC0tBPXpFdHkPwL3yzYo546SCS9LKEwz62ymxxbL9k7h09t',\n",
    "    \n",
    ")"
   ]
  },
  {
   "cell_type": "code",
   "execution_count": null,
   "metadata": {},
   "outputs": [],
   "source": []
  }
 ],
 "metadata": {
  "kernelspec": {
   "display_name": "Python 3.9.12 ('base')",
   "language": "python",
   "name": "python3"
  },
  "language_info": {
   "codemirror_mode": {
    "name": "ipython",
    "version": 3
   },
   "file_extension": ".py",
   "mimetype": "text/x-python",
   "name": "python",
   "nbconvert_exporter": "python",
   "pygments_lexer": "ipython3",
   "version": "3.9.12"
  },
  "orig_nbformat": 4,
  "vscode": {
   "interpreter": {
    "hash": "bc4cfecc69e7e78778ca0625e692376743fea3692aceab2f0b9ba68a0d016c23"
   }
  }
 },
 "nbformat": 4,
 "nbformat_minor": 2
}
