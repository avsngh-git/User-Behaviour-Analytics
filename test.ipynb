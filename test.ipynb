{
 "cells": [
  {
   "cell_type": "code",
   "execution_count": 1,
   "metadata": {},
   "outputs": [],
   "source": [
    "import boto3"
   ]
  },
  {
   "cell_type": "code",
   "execution_count": 5,
   "metadata": {},
   "outputs": [
    {
     "ename": "ImportError",
     "evalue": "cannot import name 'logger' from partially initialized module 'boto_functions.ec2_functions' (most likely due to a circular import) (/home/avinash/Data-Science/User-Behaviour-Analytics/User-Behaviour-Analytics/boto_functions/ec2_functions.py)",
     "output_type": "error",
     "traceback": [
      "\u001b[0;31m---------------------------------------------------------------------------\u001b[0m",
      "\u001b[0;31mImportError\u001b[0m                               Traceback (most recent call last)",
      "\u001b[1;32m/home/avinash/Data-Science/User-Behaviour-Analytics/User-Behaviour-Analytics/test.ipynb Cell 2\u001b[0m in \u001b[0;36m<cell line: 1>\u001b[0;34m()\u001b[0m\n\u001b[0;32m----> <a href='vscode-notebook-cell://wsl%2Bubuntu/home/avinash/Data-Science/User-Behaviour-Analytics/User-Behaviour-Analytics/test.ipynb#ch0000018vscode-remote?line=0'>1</a>\u001b[0m \u001b[39mfrom\u001b[39;00m \u001b[39mboto_functions\u001b[39;00m\u001b[39m.\u001b[39;00m\u001b[39mec2_functions\u001b[39;00m  \u001b[39mimport\u001b[39;00m crea\n",
      "File \u001b[0;32m~/Data-Science/User-Behaviour-Analytics/User-Behaviour-Analytics/boto_functions/ec2_functions.py:4\u001b[0m, in \u001b[0;36m<module>\u001b[0;34m\u001b[0m\n\u001b[1;32m      2\u001b[0m \u001b[39mfrom\u001b[39;00m \u001b[39mbotocore\u001b[39;00m\u001b[39m.\u001b[39;00m\u001b[39mexceptions\u001b[39;00m \u001b[39mimport\u001b[39;00m ClientError\n\u001b[1;32m      3\u001b[0m \u001b[39mimport\u001b[39;00m \u001b[39mjson\u001b[39;00m\n\u001b[0;32m----> 4\u001b[0m \u001b[39mfrom\u001b[39;00m \u001b[39mboto_functions\u001b[39;00m\u001b[39m.\u001b[39;00m\u001b[39mec2_functions\u001b[39;00m \u001b[39mimport\u001b[39;00m logger\n\u001b[1;32m      5\u001b[0m \u001b[39mimport\u001b[39;00m \u001b[39msubprocess\u001b[39;00m\n\u001b[1;32m      9\u001b[0m \u001b[39mdef\u001b[39;00m \u001b[39mcreate_key_ec2\u001b[39m(key_name, ec2):\n",
      "\u001b[0;31mImportError\u001b[0m: cannot import name 'logger' from partially initialized module 'boto_functions.ec2_functions' (most likely due to a circular import) (/home/avinash/Data-Science/User-Behaviour-Analytics/User-Behaviour-Analytics/boto_functions/ec2_functions.py)"
     ]
    }
   ],
   "source": []
  },
  {
   "cell_type": "code",
   "execution_count": 2,
   "metadata": {},
   "outputs": [],
   "source": [
    "s3_resource = boto3.resource('s3')"
   ]
  },
  {
   "cell_type": "code",
   "execution_count": 4,
   "metadata": {},
   "outputs": [],
   "source": [
    "bucket = 'test-for-infra-script'"
   ]
  },
  {
   "cell_type": "code",
   "execution_count": 5,
   "metadata": {},
   "outputs": [
    {
     "data": {
      "text/plain": [
       "{'ResponseMetadata': {'RequestId': 'P3NCJC69SA6KW5JQ',\n",
       "  'HostId': 'bvg7V/obf0UNfavNkc1i+npPXYrusxCzNK1OXAvyyoql5wT6nSPR6AnKdwRB2XVqgV78oDs3eKQ=',\n",
       "  'HTTPStatusCode': 200,\n",
       "  'HTTPHeaders': {'x-amz-id-2': 'bvg7V/obf0UNfavNkc1i+npPXYrusxCzNK1OXAvyyoql5wT6nSPR6AnKdwRB2XVqgV78oDs3eKQ=',\n",
       "   'x-amz-request-id': 'P3NCJC69SA6KW5JQ',\n",
       "   'date': 'Tue, 19 Jul 2022 07:21:26 GMT',\n",
       "   'location': 'http://test-for-infra-script.s3.amazonaws.com/',\n",
       "   'server': 'AmazonS3',\n",
       "   'content-length': '0'},\n",
       "  'RetryAttempts': 0},\n",
       " 'Location': 'http://test-for-infra-script.s3.amazonaws.com/'}"
      ]
     },
     "execution_count": 5,
     "metadata": {},
     "output_type": "execute_result"
    }
   ],
   "source": [
    "create_bucket(bucket_name=bucket, s3_resource=s3_resource, logger=logger)"
   ]
  },
  {
   "cell_type": "code",
   "execution_count": 5,
   "metadata": {},
   "outputs": [
    {
     "data": {
      "text/plain": [
       "{'ResponseMetadata': {'RequestId': '1E6MX85V0WG8JSQ2',\n",
       "  'HostId': 'Rp1Q1WevwcB1U8vFujQT41bYmStpLeg7AZi5VSq/3ESBeO8wJcuqFiN4WaYS7NFrH8h4oUVV00I=',\n",
       "  'HTTPStatusCode': 204,\n",
       "  'HTTPHeaders': {'x-amz-id-2': 'Rp1Q1WevwcB1U8vFujQT41bYmStpLeg7AZi5VSq/3ESBeO8wJcuqFiN4WaYS7NFrH8h4oUVV00I=',\n",
       "   'x-amz-request-id': '1E6MX85V0WG8JSQ2',\n",
       "   'date': 'Tue, 19 Jul 2022 07:31:09 GMT',\n",
       "   'server': 'AmazonS3'},\n",
       "  'RetryAttempts': 0}}"
      ]
     },
     "execution_count": 5,
     "metadata": {},
     "output_type": "execute_result"
    }
   ],
   "source": [
    "delete_bucket(bucket_name=bucket, s3_resource=s3_resource, logger=logger)"
   ]
  },
  {
   "cell_type": "code",
   "execution_count": 1,
   "metadata": {},
   "outputs": [
    {
     "name": "stdout",
     "output_type": "stream",
     "text": [
      "Your Computer Name is:MSI\n",
      "Your Computer IP Address is:127.0.1.1\n"
     ]
    }
   ],
   "source": [
    "import socket\n",
    "hostname = socket.gethostname()   \n",
    "IPAddr = socket.gethostbyname(hostname)   \n",
    "print(\"Your Computer Name is:\" + hostname)   \n",
    "print(\"Your Computer IP Address is:\" + IPAddr)"
   ]
  },
  {
   "cell_type": "code",
   "execution_count": 10,
   "metadata": {},
   "outputs": [
    {
     "name": "stdout",
     "output_type": "stream",
     "text": [
      "122.161.240.125\n"
     ]
    }
   ],
   "source": [
    "#get my ip\n",
    "import subprocess\n",
    "ip = subprocess.run(['curl', '-s', 'http://whatismyip.akamai.com/'],stderr=subprocess.PIPE, text=True)\n",
    "print(ip.stderr)"
   ]
  },
  {
   "cell_type": "code",
   "execution_count": 38,
   "metadata": {},
   "outputs": [],
   "source": [
    "import subprocess\n",
    "def my_ip():\n",
    "    process = subprocess.Popen(['curl', '-s', 'http://whatismyip.akamai.com/'],stdout=subprocess.PIPE, stderr=subprocess.PIPE, text=True)\n",
    "    ip = process.communicate()\n",
    "    return ip[0]"
   ]
  },
  {
   "cell_type": "code",
   "execution_count": 39,
   "metadata": {},
   "outputs": [
    {
     "data": {
      "text/plain": [
       "'122.161.240.125'"
      ]
     },
     "execution_count": 39,
     "metadata": {},
     "output_type": "execute_result"
    }
   ],
   "source": [
    "ip = my_ip()\n",
    "ip"
   ]
  },
  {
   "cell_type": "code",
   "execution_count": 3,
   "metadata": {},
   "outputs": [
    {
     "data": {
      "text/plain": [
       "'122.161.240.125'"
      ]
     },
     "execution_count": 3,
     "metadata": {},
     "output_type": "execute_result"
    }
   ],
   "source": [
    "ip[0]"
   ]
  },
  {
   "cell_type": "code",
   "execution_count": 5,
   "metadata": {},
   "outputs": [],
   "source": [
    "def attach_ingress(my_ip, security_group, group_id, description):\n",
    "    cidr = my_ip+'/32'\n",
    "    response = security_group.authorize_ingress(\n",
    "        CidrIp=cidr,\n",
    "        FromPort=23,\n",
    "        GroupId= group_id,\n",
    "        IpProtocol='tcp',\n",
    "        ToPort=123 \n",
    "    )\n",
    "\n",
    "def attach_egress(my_ip, security_group):\n",
    "    \"\"\" attaches egress rule, Port is hardcoded, free to edit\"\"\"\n",
    "    cidr = my_ip+'/32'\n",
    "    response = security_group.authorize_egress(\n",
    "        IpPermissions=[\n",
    "        {\n",
    "            'FromPort': 8080,\n",
    "            'IpProtocol': 'tcp',\n",
    "            'IpRanges': [\n",
    "                {\n",
    "                    'CidrIp': cidr,\n",
    "                    'Description': 'my_ip'\n",
    "                },\n",
    "            ],\n",
    "            'ToPort': 8080\n",
    "        },\n",
    "    ],\n",
    "    )"
   ]
  },
  {
   "cell_type": "code",
   "execution_count": 6,
   "metadata": {},
   "outputs": [],
   "source": [
    "ec2 = boto3.resource('ec2')"
   ]
  },
  {
   "cell_type": "code",
   "execution_count": 7,
   "metadata": {},
   "outputs": [],
   "source": [
    "\n",
    "security_group = ec2.SecurityGroup('sg-0c7f8f5f8b15ee00c')"
   ]
  },
  {
   "cell_type": "code",
   "execution_count": 8,
   "metadata": {},
   "outputs": [
    {
     "data": {
      "text/plain": [
       "'sg-0c7f8f5f8b15ee00c'"
      ]
     },
     "execution_count": 8,
     "metadata": {},
     "output_type": "execute_result"
    }
   ],
   "source": [
    "ec2_security_group_id = security_group.group_id\n",
    "ec2_security_group_id"
   ]
  },
  {
   "cell_type": "code",
   "execution_count": 13,
   "metadata": {},
   "outputs": [],
   "source": [
    "from botocore.exceptions import ClientError\n",
    "def create_instance(ec2, security_group_id, instance_profile_name, instance_type):\n",
    "    \"\"\" creates an EC2 instance for our computing needs\n",
    "    Hardcoded: instance number max and min values, OS image_id, volumetype, availability zone, \n",
    "    \"\"\"\n",
    "    try:\n",
    "        instance = ec2.create_instances(\n",
    "            BlockDeviceMappings=[\n",
    "                {\n",
    "                    'DeviceName': '/dev/sdh',\n",
    "                    'Ebs': {\n",
    "                        'DeleteOnTermination': False,\n",
    "                        'VolumeSize': 8,\n",
    "                        'VolumeType': 'gp2'\n",
    "                    },\n",
    "                },\n",
    "            ],\n",
    "            ImageId='ami-08df646e18b182346',\n",
    "            InstanceType=instance_type,\n",
    "            MaxCount=1,\n",
    "            MinCount=1,\n",
    "            Monitoring={\n",
    "                'Enabled': False\n",
    "            },\n",
    "            SecurityGroupIds=[\n",
    "                security_group_id\n",
    "            ],\n",
    "            IamInstanceProfile={\n",
    "                'Name': instance_profile_name\n",
    "            },\n",
    "            \n",
    "        )\n",
    "    except ClientError:\n",
    "        raise\n",
    "    else:\n",
    "        return instance"
   ]
  },
  {
   "cell_type": "code",
   "execution_count": 15,
   "metadata": {},
   "outputs": [],
   "source": [
    "instance = create_instance(ec2=ec2, security_group_id=ec2_security_group_id, instance_profile_name='ec2-role-project-sr1-19-7-2022-instance-profile', instance_type='t2.large')"
   ]
  },
  {
   "cell_type": "code",
   "execution_count": 26,
   "metadata": {},
   "outputs": [
    {
     "data": {
      "text/plain": [
       "ec2.Instance(id='i-065e425bd2e496e5f')"
      ]
     },
     "execution_count": 26,
     "metadata": {},
     "output_type": "execute_result"
    }
   ],
   "source": []
  },
  {
   "cell_type": "code",
   "execution_count": 29,
   "metadata": {},
   "outputs": [],
   "source": [
    "response = instance[0].describe_attribute(\n",
    "    Attribute='instanceType'\n",
    ")"
   ]
  },
  {
   "cell_type": "code",
   "execution_count": 31,
   "metadata": {},
   "outputs": [
    {
     "data": {
      "text/plain": [
       "'i-065e425bd2e496e5f'"
      ]
     },
     "execution_count": 31,
     "metadata": {},
     "output_type": "execute_result"
    }
   ],
   "source": [
    "response['InstanceId']"
   ]
  },
  {
   "cell_type": "code",
   "execution_count": 15,
   "metadata": {},
   "outputs": [],
   "source": [
    "from botocore.exceptions import ClientError\n",
    "def create_cluster(client, name, key_name):\n",
    "    \"\"\"Creates an emr cluster\n",
    "    Hardcoded ReleaseLabel: Version of EMR release, change if needed\n",
    "    Hardcoded Instances: InstanceGroups: Name, Market, InstanceRole, InstanceType, InstanceCount, EBSconfiguration \"\"\"\n",
    "\n",
    "    try:\n",
    "        response = client.run_job_flow(\n",
    "            Name=name,\n",
    "            ReleaseLabel='emr-6.7.0',\n",
    "            Instances={\n",
    "                'InstanceGroups': [\n",
    "                    {\n",
    "                        'Name': 'master',\n",
    "                        'Market': 'SPOT',\n",
    "                        'InstanceRole': 'MASTER',\n",
    "                        'InstanceType': 'm5.xlarge',\n",
    "                        'InstanceCount': 1,\n",
    "                        'EbsConfiguration': {\n",
    "                            'EbsBlockDeviceConfigs': [\n",
    "                                {\n",
    "                                    'VolumeSpecification': {\n",
    "                                        'VolumeType': 'gp2',\n",
    "                                        'SizeInGB': 32,\n",
    "                                        \n",
    "                                    },\n",
    "                                    'VolumesPerInstance': 2\n",
    "                                },\n",
    "                            ]\n",
    "                        },\n",
    "                    },\n",
    "                    {\n",
    "                        'Name': 'core',\n",
    "                        'Market': 'SPOT',\n",
    "                        'InstanceRole': 'CORE',\n",
    "                        'InstanceType': 'm5.xlarge',\n",
    "                        'InstanceCount': 2,\n",
    "                        'EbsConfiguration': {\n",
    "                            'EbsBlockDeviceConfigs': [\n",
    "                                {\n",
    "                                    'VolumeSpecification': {\n",
    "                                        'VolumeType': 'gp2',\n",
    "                                        'SizeInGB': 32,\n",
    "                                        \n",
    "                                    },\n",
    "                                    'VolumesPerInstance': 2\n",
    "                                },\n",
    "                            ]\n",
    "                        },\n",
    "                    }\n",
    "                ],\n",
    "                'Ec2KeyName': key_name,\n",
    "                'KeepJobFlowAliveWhenNoSteps': False,\n",
    "                'TerminationProtected': False\n",
    "            },\n",
    "            JobFlowRole='EMR_EC2_DefaultRole',\n",
    "            ServiceRole='EMR_Service_Role',\n",
    "            Applications=[\n",
    "                {\n",
    "                    'Name': 'spark',\n",
    "                    \n",
    "                    \n",
    "                },\n",
    "            ],\n",
    "            \n",
    "            \n",
    "            \n",
    "            \n",
    "            ScaleDownBehavior='TERMINATE_AT_TASK_COMPLETION'\n",
    "        )\n",
    "    except ClientError:\n",
    "        raise\n",
    "    else:\n",
    "        return response"
   ]
  },
  {
   "cell_type": "code",
   "execution_count": 17,
   "metadata": {},
   "outputs": [],
   "source": [
    "emr = boto3.client('emr')\n",
    "\n",
    "cluster = create_cluster(emr, 'test', 'ec2_emr')"
   ]
  },
  {
   "cell_type": "code",
   "execution_count": 2,
   "metadata": {},
   "outputs": [],
   "source": [
    "redshift = boto3.client('redshift')"
   ]
  },
  {
   "cell_type": "code",
   "execution_count": 6,
   "metadata": {},
   "outputs": [],
   "source": [
    "from botocore.exceptions import ClientError\n",
    "def create_redshift_cluster(client, cluster_identifier, cluster_type, node_type, master_username, master_password, iam_role_arn):\n",
    "    \"\"\"Creates an AWS Redshift Cluster\"\"\"\n",
    "    try:\n",
    "        cluster = client.create_cluster(\n",
    "            ClusterIdentifier=cluster_identifier,\n",
    "            ClusterType=cluster_type,\n",
    "            NodeType=node_type,\n",
    "            MasterUsername=master_username,\n",
    "            MasterUserPassword=master_password,  \n",
    "            AutomatedSnapshotRetentionPeriod=0,\n",
    "            ManualSnapshotRetentionPeriod=1,\n",
    "            Port=5739,\n",
    "            IamRoles=[\n",
    "                iam_role_arn\n",
    "            ],          \n",
    "            PubliclyAccessible=True,\n",
    "            DefaultIamRoleArn=iam_role_arn,\n",
    "        )\n",
    "        \n",
    "    \n",
    "    except ClientError:\n",
    "        raise\n",
    "    else:\n",
    "        return cluster"
   ]
  },
  {
   "cell_type": "code",
   "execution_count": 7,
   "metadata": {},
   "outputs": [],
   "source": [
    "cluster_identifier = 'redshift-project-1'\n",
    "cluster_type = 'single-node'\n",
    "node_type = 'dc2.large'\n",
    "redshift_cluster = create_redshift_cluster(client=redshift, cluster_identifier=cluster_identifier, cluster_type=cluster_type, \n",
    "        node_type=node_type, master_username='redshift-user-project-1', master_password='Redshift-project-1', iam_role_arn='arn:aws:iam::130747997504:role/EMR_EC2_DefaultRole' )"
   ]
  },
  {
   "cell_type": "code",
   "execution_count": null,
   "metadata": {},
   "outputs": [],
   "source": []
  }
 ],
 "metadata": {
  "kernelspec": {
   "display_name": "Python 3.9.12 ('base')",
   "language": "python",
   "name": "python3"
  },
  "language_info": {
   "codemirror_mode": {
    "name": "ipython",
    "version": 3
   },
   "file_extension": ".py",
   "mimetype": "text/x-python",
   "name": "python",
   "nbconvert_exporter": "python",
   "pygments_lexer": "ipython3",
   "version": "3.9.12"
  },
  "orig_nbformat": 4,
  "vscode": {
   "interpreter": {
    "hash": "bc4cfecc69e7e78778ca0625e692376743fea3692aceab2f0b9ba68a0d016c23"
   }
  }
 },
 "nbformat": 4,
 "nbformat_minor": 2
}
