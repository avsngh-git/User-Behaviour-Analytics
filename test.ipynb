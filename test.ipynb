{
 "cells": [
  {
   "cell_type": "code",
   "execution_count": 1,
   "metadata": {},
   "outputs": [
    {
     "ename": "ImportError",
     "evalue": "cannot import name 'logger' from partially initialized module 'boto_functions.ec2_functions' (most likely due to a circular import) (\\\\wsl.localhost\\Ubuntu\\home\\avinash\\Data-Science\\User-Behaviour-Analytics\\User-Behaviour-Analytics\\boto_functions\\ec2_functions.py)",
     "output_type": "error",
     "traceback": [
      "\u001b[1;31m---------------------------------------------------------------------------\u001b[0m",
      "\u001b[1;31mImportError\u001b[0m                               Traceback (most recent call last)",
      "\u001b[1;32m~\\AppData\\Local\\Temp/ipykernel_4344/1009253992.py\u001b[0m in \u001b[0;36m<module>\u001b[1;34m\u001b[0m\n\u001b[0;32m      1\u001b[0m \u001b[1;32mimport\u001b[0m \u001b[0mboto3\u001b[0m\u001b[1;33m\u001b[0m\u001b[1;33m\u001b[0m\u001b[0m\n\u001b[0;32m      2\u001b[0m \u001b[1;33m\u001b[0m\u001b[0m\n\u001b[1;32m----> 3\u001b[1;33m \u001b[1;32mfrom\u001b[0m \u001b[0mboto_functions\u001b[0m\u001b[1;33m.\u001b[0m\u001b[0mec2_functions\u001b[0m \u001b[1;32mimport\u001b[0m \u001b[0mcreate_instance\u001b[0m\u001b[1;33m\u001b[0m\u001b[1;33m\u001b[0m\u001b[0m\n\u001b[0m",
      "\u001b[1;32m\\\\wsl.localhost\\Ubuntu\\home\\avinash\\Data-Science\\User-Behaviour-Analytics\\User-Behaviour-Analytics\\boto_functions\\ec2_functions.py\u001b[0m in \u001b[0;36m<module>\u001b[1;34m\u001b[0m\n\u001b[0;32m      2\u001b[0m \u001b[1;32mfrom\u001b[0m \u001b[0mbotocore\u001b[0m\u001b[1;33m.\u001b[0m\u001b[0mexceptions\u001b[0m \u001b[1;32mimport\u001b[0m \u001b[0mClientError\u001b[0m\u001b[1;33m\u001b[0m\u001b[1;33m\u001b[0m\u001b[0m\n\u001b[0;32m      3\u001b[0m \u001b[1;32mimport\u001b[0m \u001b[0mjson\u001b[0m\u001b[1;33m\u001b[0m\u001b[1;33m\u001b[0m\u001b[0m\n\u001b[1;32m----> 4\u001b[1;33m \u001b[1;32mfrom\u001b[0m \u001b[0mboto_functions\u001b[0m\u001b[1;33m.\u001b[0m\u001b[0mec2_functions\u001b[0m \u001b[1;32mimport\u001b[0m \u001b[0mlogger\u001b[0m\u001b[1;33m\u001b[0m\u001b[1;33m\u001b[0m\u001b[0m\n\u001b[0m\u001b[0;32m      5\u001b[0m \u001b[1;32mimport\u001b[0m \u001b[0msubprocess\u001b[0m\u001b[1;33m\u001b[0m\u001b[1;33m\u001b[0m\u001b[0m\n\u001b[0;32m      6\u001b[0m \u001b[1;33m\u001b[0m\u001b[0m\n",
      "\u001b[1;31mImportError\u001b[0m: cannot import name 'logger' from partially initialized module 'boto_functions.ec2_functions' (most likely due to a circular import) (\\\\wsl.localhost\\Ubuntu\\home\\avinash\\Data-Science\\User-Behaviour-Analytics\\User-Behaviour-Analytics\\boto_functions\\ec2_functions.py)"
     ]
    }
   ],
   "source": [
    "\n",
    "import boto3\n",
    "\n",
    "from boto_functions.ec2_functions import create_instance"
   ]
  },
  {
   "cell_type": "code",
   "execution_count": 2,
   "metadata": {},
   "outputs": [],
   "source": [
    "s3_resource = boto3.resource('s3')"
   ]
  },
  {
   "cell_type": "code",
   "execution_count": 4,
   "metadata": {},
   "outputs": [],
   "source": [
    "bucket = 'test-for-infra-script'"
   ]
  },
  {
   "cell_type": "code",
   "execution_count": 5,
   "metadata": {},
   "outputs": [
    {
     "data": {
      "text/plain": [
       "{'ResponseMetadata': {'RequestId': 'P3NCJC69SA6KW5JQ',\n",
       "  'HostId': 'bvg7V/obf0UNfavNkc1i+npPXYrusxCzNK1OXAvyyoql5wT6nSPR6AnKdwRB2XVqgV78oDs3eKQ=',\n",
       "  'HTTPStatusCode': 200,\n",
       "  'HTTPHeaders': {'x-amz-id-2': 'bvg7V/obf0UNfavNkc1i+npPXYrusxCzNK1OXAvyyoql5wT6nSPR6AnKdwRB2XVqgV78oDs3eKQ=',\n",
       "   'x-amz-request-id': 'P3NCJC69SA6KW5JQ',\n",
       "   'date': 'Tue, 19 Jul 2022 07:21:26 GMT',\n",
       "   'location': 'http://test-for-infra-script.s3.amazonaws.com/',\n",
       "   'server': 'AmazonS3',\n",
       "   'content-length': '0'},\n",
       "  'RetryAttempts': 0},\n",
       " 'Location': 'http://test-for-infra-script.s3.amazonaws.com/'}"
      ]
     },
     "execution_count": 5,
     "metadata": {},
     "output_type": "execute_result"
    }
   ],
   "source": [
    "\n",
    "create_bucket(bucket_name=bucket, s3_resource=s3_resource, logger=logger)"
   ]
  },
  {
   "cell_type": "code",
   "execution_count": 5,
   "metadata": {},
   "outputs": [
    {
     "data": {
      "text/plain": [
       "{'ResponseMetadata': {'RequestId': '1E6MX85V0WG8JSQ2',\n",
       "  'HostId': 'Rp1Q1WevwcB1U8vFujQT41bYmStpLeg7AZi5VSq/3ESBeO8wJcuqFiN4WaYS7NFrH8h4oUVV00I=',\n",
       "  'HTTPStatusCode': 204,\n",
       "  'HTTPHeaders': {'x-amz-id-2': 'Rp1Q1WevwcB1U8vFujQT41bYmStpLeg7AZi5VSq/3ESBeO8wJcuqFiN4WaYS7NFrH8h4oUVV00I=',\n",
       "   'x-amz-request-id': '1E6MX85V0WG8JSQ2',\n",
       "   'date': 'Tue, 19 Jul 2022 07:31:09 GMT',\n",
       "   'server': 'AmazonS3'},\n",
       "  'RetryAttempts': 0}}"
      ]
     },
     "execution_count": 5,
     "metadata": {},
     "output_type": "execute_result"
    }
   ],
   "source": [
    "delete_bucket(bucket_name=bucket, s3_resource=s3_resource, logger=logger)"
   ]
  },
  {
   "cell_type": "code",
   "execution_count": 1,
   "metadata": {},
   "outputs": [
    {
     "name": "stdout",
     "output_type": "stream",
     "text": [
      "Your Computer Name is:MSI\n",
      "Your Computer IP Address is:127.0.1.1\n"
     ]
    }
   ],
   "source": [
    "import socket\n",
    "hostname = socket.gethostname()   \n",
    "IPAddr = socket.gethostbyname(hostname)   \n",
    "print(\"Your Computer Name is:\" + hostname)   \n",
    "print(\"Your Computer IP Address is:\" + IPAddr)"
   ]
  },
  {
   "cell_type": "code",
   "execution_count": 10,
   "metadata": {},
   "outputs": [
    {
     "name": "stdout",
     "output_type": "stream",
     "text": [
      "122.161.240.125\n"
     ]
    }
   ],
   "source": [
    "#get my ip\n",
    "import subprocess\n",
    "ip = subprocess.run(['curl', '-s', 'http://whatismyip.akamai.com/'],stderr=subprocess.PIPE, text=True)\n",
    "print(ip.stderr)"
   ]
  },
  {
   "cell_type": "code",
   "execution_count": 38,
   "metadata": {},
   "outputs": [],
   "source": [
    "import subprocess\n",
    "def my_ip():\n",
    "    process = subprocess.Popen(['curl', '-s', 'http://whatismyip.akamai.com/'],stdout=subprocess.PIPE, stderr=subprocess.PIPE, text=True)\n",
    "    ip = process.communicate()\n",
    "    return ip[0]"
   ]
  },
  {
   "cell_type": "code",
   "execution_count": 39,
   "metadata": {},
   "outputs": [
    {
     "data": {
      "text/plain": [
       "'122.161.240.125'"
      ]
     },
     "execution_count": 39,
     "metadata": {},
     "output_type": "execute_result"
    }
   ],
   "source": [
    "ip = my_ip()\n",
    "ip"
   ]
  },
  {
   "cell_type": "code",
   "execution_count": 3,
   "metadata": {},
   "outputs": [
    {
     "data": {
      "text/plain": [
       "'122.161.240.125'"
      ]
     },
     "execution_count": 3,
     "metadata": {},
     "output_type": "execute_result"
    }
   ],
   "source": [
    "ip[0]"
   ]
  },
  {
   "cell_type": "code",
   "execution_count": 5,
   "metadata": {},
   "outputs": [],
   "source": [
    "def attach_ingress(my_ip, security_group, group_id, description):\n",
    "    cidr = my_ip+'/32'\n",
    "    response = security_group.authorize_ingress(\n",
    "        CidrIp=cidr,\n",
    "        FromPort=23,\n",
    "        GroupId= group_id,\n",
    "        IpProtocol='tcp',\n",
    "        ToPort=123 \n",
    "    )\n",
    "\n",
    "def attach_egress(my_ip, security_group):\n",
    "    \"\"\" attaches egress rule, Port is hardcoded, free to edit\"\"\"\n",
    "    cidr = my_ip+'/32'\n",
    "    response = security_group.authorize_egress(\n",
    "        IpPermissions=[\n",
    "        {\n",
    "            'FromPort': 8080,\n",
    "            'IpProtocol': 'tcp',\n",
    "            'IpRanges': [\n",
    "                {\n",
    "                    'CidrIp': cidr,\n",
    "                    'Description': 'my_ip'\n",
    "                },\n",
    "            ],\n",
    "            'ToPort': 8080\n",
    "        },\n",
    "    ],\n",
    "    )"
   ]
  },
  {
   "cell_type": "code",
   "execution_count": 9,
   "metadata": {},
   "outputs": [],
   "source": [
    "ec2 = boto3.resource('ec2')"
   ]
  },
  {
   "cell_type": "code",
   "execution_count": 13,
   "metadata": {},
   "outputs": [],
   "source": [
    "\n",
    "security_group = ec2.SecurityGroup('sg-0c7f8f5f8b15ee00c')\n",
    "\n"
   ]
  },
  {
   "cell_type": "code",
   "execution_count": 14,
   "metadata": {},
   "outputs": [
    {
     "data": {
      "text/plain": [
       "'sg-0c7f8f5f8b15ee00c'"
      ]
     },
     "execution_count": 14,
     "metadata": {},
     "output_type": "execute_result"
    }
   ],
   "source": [
    "ec2_security_group_id = security_group.group_id\n",
    "ec2_security_group_id"
   ]
  },
  {
   "cell_type": "code",
   "execution_count": 18,
   "metadata": {},
   "outputs": [],
   "source": [
    "from botocore.exceptions import ClientError\n",
    "def create_instance(ec2, security_group_id, instance_profile_name, instance_type):\n",
    "    \"\"\" creates an EC2 instance for our computing needs\n",
    "    Hardcoded: instance number max and min values, OS image_id, volumetype, availability zone, \n",
    "    \"\"\"\n",
    "    try:\n",
    "        instance = ec2.create_instances(\n",
    "            BlockDeviceMappings=[\n",
    "                {\n",
    "                    'Ebs': {\n",
    "                        'DeleteOnTermination': False,\n",
    "                        'Iops': 200,\n",
    "                        'VolumeSize': 8,\n",
    "                        'VolumeType': 'gp2'\n",
    "                    },\n",
    "                },\n",
    "            ],\n",
    "            ImageId='ami-08df646e18b182346',\n",
    "            InstanceType=instance_type,\n",
    "            MaxCount=1,\n",
    "            MinCount=1,\n",
    "            Monitoring={\n",
    "                'Enabled': False\n",
    "            },\n",
    "            SecurityGroupIds=[\n",
    "                security_group_id\n",
    "            ],\n",
    "            IamInstanceProfile={\n",
    "                'Name': instance_profile_name\n",
    "            },\n",
    "            \n",
    "        )\n",
    "    except ClientError:\n",
    "        raise\n",
    "    else:\n",
    "        return instance"
   ]
  },
  {
   "cell_type": "code",
   "execution_count": 19,
   "metadata": {},
   "outputs": [
    {
     "ename": "ClientError",
     "evalue": "An error occurred (InvalidParameterValue) when calling the RunInstances operation: Invalid availability zone: [ap-south-1]",
     "output_type": "error",
     "traceback": [
      "\u001b[0;31m---------------------------------------------------------------------------\u001b[0m",
      "\u001b[0;31mClientError\u001b[0m                               Traceback (most recent call last)",
      "\u001b[1;32m/home/avinash/Data Science/User Behaviour Analytics/User-Behaviour-Analytics/test.ipynb Cell 16\u001b[0m in \u001b[0;36m<cell line: 1>\u001b[0;34m()\u001b[0m\n\u001b[0;32m----> <a href='vscode-notebook-cell://wsl%2Bubuntu/home/avinash/Data%20Science/User%20Behaviour%20Analytics/User-Behaviour-Analytics/test.ipynb#ch0000014vscode-remote?line=0'>1</a>\u001b[0m create_instance(ec2\u001b[39m=\u001b[39;49mec2, security_group_id\u001b[39m=\u001b[39;49mec2_security_group_id, instance_profile_name\u001b[39m=\u001b[39;49m\u001b[39m'\u001b[39;49m\u001b[39mec2-role-project-sr1-19-7-2022-instance-profile\u001b[39;49m\u001b[39m'\u001b[39;49m, instance_type\u001b[39m=\u001b[39;49m\u001b[39m'\u001b[39;49m\u001b[39mt2.large\u001b[39;49m\u001b[39m'\u001b[39;49m)\n",
      "\u001b[1;32m/home/avinash/Data Science/User Behaviour Analytics/User-Behaviour-Analytics/test.ipynb Cell 16\u001b[0m in \u001b[0;36mcreate_instance\u001b[0;34m(ec2, security_group_id, instance_profile_name, instance_type)\u001b[0m\n\u001b[1;32m      <a href='vscode-notebook-cell://wsl%2Bubuntu/home/avinash/Data%20Science/User%20Behaviour%20Analytics/User-Behaviour-Analytics/test.ipynb#ch0000014vscode-remote?line=2'>3</a>\u001b[0m \u001b[39m\"\"\" creates an EC2 instance for our computing needs\u001b[39;00m\n\u001b[1;32m      <a href='vscode-notebook-cell://wsl%2Bubuntu/home/avinash/Data%20Science/User%20Behaviour%20Analytics/User-Behaviour-Analytics/test.ipynb#ch0000014vscode-remote?line=3'>4</a>\u001b[0m \u001b[39mHardcoded: instance number max and min values, OS image_id, volumetype, availability zone, \u001b[39;00m\n\u001b[1;32m      <a href='vscode-notebook-cell://wsl%2Bubuntu/home/avinash/Data%20Science/User%20Behaviour%20Analytics/User-Behaviour-Analytics/test.ipynb#ch0000014vscode-remote?line=4'>5</a>\u001b[0m \u001b[39m\"\"\"\u001b[39;00m\n\u001b[1;32m      <a href='vscode-notebook-cell://wsl%2Bubuntu/home/avinash/Data%20Science/User%20Behaviour%20Analytics/User-Behaviour-Analytics/test.ipynb#ch0000014vscode-remote?line=5'>6</a>\u001b[0m \u001b[39mtry\u001b[39;00m:\n\u001b[0;32m----> <a href='vscode-notebook-cell://wsl%2Bubuntu/home/avinash/Data%20Science/User%20Behaviour%20Analytics/User-Behaviour-Analytics/test.ipynb#ch0000014vscode-remote?line=6'>7</a>\u001b[0m     instance \u001b[39m=\u001b[39m ec2\u001b[39m.\u001b[39;49mcreate_instances(\n\u001b[1;32m      <a href='vscode-notebook-cell://wsl%2Bubuntu/home/avinash/Data%20Science/User%20Behaviour%20Analytics/User-Behaviour-Analytics/test.ipynb#ch0000014vscode-remote?line=7'>8</a>\u001b[0m         BlockDeviceMappings\u001b[39m=\u001b[39;49m[\n\u001b[1;32m      <a href='vscode-notebook-cell://wsl%2Bubuntu/home/avinash/Data%20Science/User%20Behaviour%20Analytics/User-Behaviour-Analytics/test.ipynb#ch0000014vscode-remote?line=8'>9</a>\u001b[0m             {\n\u001b[1;32m     <a href='vscode-notebook-cell://wsl%2Bubuntu/home/avinash/Data%20Science/User%20Behaviour%20Analytics/User-Behaviour-Analytics/test.ipynb#ch0000014vscode-remote?line=9'>10</a>\u001b[0m                 \u001b[39m'\u001b[39;49m\u001b[39mEbs\u001b[39;49m\u001b[39m'\u001b[39;49m: {\n\u001b[1;32m     <a href='vscode-notebook-cell://wsl%2Bubuntu/home/avinash/Data%20Science/User%20Behaviour%20Analytics/User-Behaviour-Analytics/test.ipynb#ch0000014vscode-remote?line=10'>11</a>\u001b[0m                     \u001b[39m'\u001b[39;49m\u001b[39mDeleteOnTermination\u001b[39;49m\u001b[39m'\u001b[39;49m: \u001b[39mFalse\u001b[39;49;00m,\n\u001b[1;32m     <a href='vscode-notebook-cell://wsl%2Bubuntu/home/avinash/Data%20Science/User%20Behaviour%20Analytics/User-Behaviour-Analytics/test.ipynb#ch0000014vscode-remote?line=11'>12</a>\u001b[0m                     \u001b[39m'\u001b[39;49m\u001b[39mIops\u001b[39;49m\u001b[39m'\u001b[39;49m: \u001b[39m200\u001b[39;49m,\n\u001b[1;32m     <a href='vscode-notebook-cell://wsl%2Bubuntu/home/avinash/Data%20Science/User%20Behaviour%20Analytics/User-Behaviour-Analytics/test.ipynb#ch0000014vscode-remote?line=12'>13</a>\u001b[0m                     \u001b[39m'\u001b[39;49m\u001b[39mVolumeSize\u001b[39;49m\u001b[39m'\u001b[39;49m: \u001b[39m8\u001b[39;49m,\n\u001b[1;32m     <a href='vscode-notebook-cell://wsl%2Bubuntu/home/avinash/Data%20Science/User%20Behaviour%20Analytics/User-Behaviour-Analytics/test.ipynb#ch0000014vscode-remote?line=13'>14</a>\u001b[0m                     \u001b[39m'\u001b[39;49m\u001b[39mVolumeType\u001b[39;49m\u001b[39m'\u001b[39;49m: \u001b[39m'\u001b[39;49m\u001b[39mgp2\u001b[39;49m\u001b[39m'\u001b[39;49m\n\u001b[1;32m     <a href='vscode-notebook-cell://wsl%2Bubuntu/home/avinash/Data%20Science/User%20Behaviour%20Analytics/User-Behaviour-Analytics/test.ipynb#ch0000014vscode-remote?line=14'>15</a>\u001b[0m                 },\n\u001b[1;32m     <a href='vscode-notebook-cell://wsl%2Bubuntu/home/avinash/Data%20Science/User%20Behaviour%20Analytics/User-Behaviour-Analytics/test.ipynb#ch0000014vscode-remote?line=15'>16</a>\u001b[0m             },\n\u001b[1;32m     <a href='vscode-notebook-cell://wsl%2Bubuntu/home/avinash/Data%20Science/User%20Behaviour%20Analytics/User-Behaviour-Analytics/test.ipynb#ch0000014vscode-remote?line=16'>17</a>\u001b[0m         ],\n\u001b[1;32m     <a href='vscode-notebook-cell://wsl%2Bubuntu/home/avinash/Data%20Science/User%20Behaviour%20Analytics/User-Behaviour-Analytics/test.ipynb#ch0000014vscode-remote?line=17'>18</a>\u001b[0m         ImageId\u001b[39m=\u001b[39;49m\u001b[39m'\u001b[39;49m\u001b[39mami-08df646e18b182346\u001b[39;49m\u001b[39m'\u001b[39;49m,\n\u001b[1;32m     <a href='vscode-notebook-cell://wsl%2Bubuntu/home/avinash/Data%20Science/User%20Behaviour%20Analytics/User-Behaviour-Analytics/test.ipynb#ch0000014vscode-remote?line=18'>19</a>\u001b[0m         InstanceType\u001b[39m=\u001b[39;49minstance_type,\n\u001b[1;32m     <a href='vscode-notebook-cell://wsl%2Bubuntu/home/avinash/Data%20Science/User%20Behaviour%20Analytics/User-Behaviour-Analytics/test.ipynb#ch0000014vscode-remote?line=19'>20</a>\u001b[0m         MaxCount\u001b[39m=\u001b[39;49m\u001b[39m1\u001b[39;49m,\n\u001b[1;32m     <a href='vscode-notebook-cell://wsl%2Bubuntu/home/avinash/Data%20Science/User%20Behaviour%20Analytics/User-Behaviour-Analytics/test.ipynb#ch0000014vscode-remote?line=20'>21</a>\u001b[0m         MinCount\u001b[39m=\u001b[39;49m\u001b[39m1\u001b[39;49m,\n\u001b[1;32m     <a href='vscode-notebook-cell://wsl%2Bubuntu/home/avinash/Data%20Science/User%20Behaviour%20Analytics/User-Behaviour-Analytics/test.ipynb#ch0000014vscode-remote?line=21'>22</a>\u001b[0m         Monitoring\u001b[39m=\u001b[39;49m{\n\u001b[1;32m     <a href='vscode-notebook-cell://wsl%2Bubuntu/home/avinash/Data%20Science/User%20Behaviour%20Analytics/User-Behaviour-Analytics/test.ipynb#ch0000014vscode-remote?line=22'>23</a>\u001b[0m             \u001b[39m'\u001b[39;49m\u001b[39mEnabled\u001b[39;49m\u001b[39m'\u001b[39;49m: \u001b[39mFalse\u001b[39;49;00m\n\u001b[1;32m     <a href='vscode-notebook-cell://wsl%2Bubuntu/home/avinash/Data%20Science/User%20Behaviour%20Analytics/User-Behaviour-Analytics/test.ipynb#ch0000014vscode-remote?line=23'>24</a>\u001b[0m         },\n\u001b[1;32m     <a href='vscode-notebook-cell://wsl%2Bubuntu/home/avinash/Data%20Science/User%20Behaviour%20Analytics/User-Behaviour-Analytics/test.ipynb#ch0000014vscode-remote?line=24'>25</a>\u001b[0m         Placement\u001b[39m=\u001b[39;49m{\n\u001b[1;32m     <a href='vscode-notebook-cell://wsl%2Bubuntu/home/avinash/Data%20Science/User%20Behaviour%20Analytics/User-Behaviour-Analytics/test.ipynb#ch0000014vscode-remote?line=25'>26</a>\u001b[0m             \u001b[39m'\u001b[39;49m\u001b[39mAvailabilityZone\u001b[39;49m\u001b[39m'\u001b[39;49m: \u001b[39m'\u001b[39;49m\u001b[39map-south-1\u001b[39;49m\u001b[39m'\u001b[39;49m\n\u001b[1;32m     <a href='vscode-notebook-cell://wsl%2Bubuntu/home/avinash/Data%20Science/User%20Behaviour%20Analytics/User-Behaviour-Analytics/test.ipynb#ch0000014vscode-remote?line=26'>27</a>\u001b[0m         },\n\u001b[1;32m     <a href='vscode-notebook-cell://wsl%2Bubuntu/home/avinash/Data%20Science/User%20Behaviour%20Analytics/User-Behaviour-Analytics/test.ipynb#ch0000014vscode-remote?line=27'>28</a>\u001b[0m         SecurityGroupIds\u001b[39m=\u001b[39;49m[\n\u001b[1;32m     <a href='vscode-notebook-cell://wsl%2Bubuntu/home/avinash/Data%20Science/User%20Behaviour%20Analytics/User-Behaviour-Analytics/test.ipynb#ch0000014vscode-remote?line=28'>29</a>\u001b[0m             security_group_id\n\u001b[1;32m     <a href='vscode-notebook-cell://wsl%2Bubuntu/home/avinash/Data%20Science/User%20Behaviour%20Analytics/User-Behaviour-Analytics/test.ipynb#ch0000014vscode-remote?line=29'>30</a>\u001b[0m         ],\n\u001b[1;32m     <a href='vscode-notebook-cell://wsl%2Bubuntu/home/avinash/Data%20Science/User%20Behaviour%20Analytics/User-Behaviour-Analytics/test.ipynb#ch0000014vscode-remote?line=30'>31</a>\u001b[0m         IamInstanceProfile\u001b[39m=\u001b[39;49m{\n\u001b[1;32m     <a href='vscode-notebook-cell://wsl%2Bubuntu/home/avinash/Data%20Science/User%20Behaviour%20Analytics/User-Behaviour-Analytics/test.ipynb#ch0000014vscode-remote?line=31'>32</a>\u001b[0m             \u001b[39m'\u001b[39;49m\u001b[39mName\u001b[39;49m\u001b[39m'\u001b[39;49m: instance_profile_name\n\u001b[1;32m     <a href='vscode-notebook-cell://wsl%2Bubuntu/home/avinash/Data%20Science/User%20Behaviour%20Analytics/User-Behaviour-Analytics/test.ipynb#ch0000014vscode-remote?line=32'>33</a>\u001b[0m         },\n\u001b[1;32m     <a href='vscode-notebook-cell://wsl%2Bubuntu/home/avinash/Data%20Science/User%20Behaviour%20Analytics/User-Behaviour-Analytics/test.ipynb#ch0000014vscode-remote?line=33'>34</a>\u001b[0m         \n\u001b[1;32m     <a href='vscode-notebook-cell://wsl%2Bubuntu/home/avinash/Data%20Science/User%20Behaviour%20Analytics/User-Behaviour-Analytics/test.ipynb#ch0000014vscode-remote?line=34'>35</a>\u001b[0m     )\n\u001b[1;32m     <a href='vscode-notebook-cell://wsl%2Bubuntu/home/avinash/Data%20Science/User%20Behaviour%20Analytics/User-Behaviour-Analytics/test.ipynb#ch0000014vscode-remote?line=35'>36</a>\u001b[0m \u001b[39mexcept\u001b[39;00m ClientError:\n\u001b[1;32m     <a href='vscode-notebook-cell://wsl%2Bubuntu/home/avinash/Data%20Science/User%20Behaviour%20Analytics/User-Behaviour-Analytics/test.ipynb#ch0000014vscode-remote?line=36'>37</a>\u001b[0m     \u001b[39mraise\u001b[39;00m\n",
      "File \u001b[0;32m~/anaconda3/lib/python3.9/site-packages/boto3/resources/factory.py:580\u001b[0m, in \u001b[0;36mResourceFactory._create_action.<locals>.do_action\u001b[0;34m(self, *args, **kwargs)\u001b[0m\n\u001b[1;32m    579\u001b[0m \u001b[39mdef\u001b[39;00m \u001b[39mdo_action\u001b[39m(\u001b[39mself\u001b[39m, \u001b[39m*\u001b[39margs, \u001b[39m*\u001b[39m\u001b[39m*\u001b[39mkwargs):\n\u001b[0;32m--> 580\u001b[0m     response \u001b[39m=\u001b[39m action(\u001b[39mself\u001b[39;49m, \u001b[39m*\u001b[39;49margs, \u001b[39m*\u001b[39;49m\u001b[39m*\u001b[39;49mkwargs)\n\u001b[1;32m    582\u001b[0m     \u001b[39mif\u001b[39;00m \u001b[39mhasattr\u001b[39m(\u001b[39mself\u001b[39m, \u001b[39m'\u001b[39m\u001b[39mload\u001b[39m\u001b[39m'\u001b[39m):\n\u001b[1;32m    583\u001b[0m         \u001b[39m# Clear cached data. It will be reloaded the next\u001b[39;00m\n\u001b[1;32m    584\u001b[0m         \u001b[39m# time that an attribute is accessed.\u001b[39;00m\n\u001b[1;32m    585\u001b[0m         \u001b[39m# TODO: Make this configurable in the future?\u001b[39;00m\n\u001b[1;32m    586\u001b[0m         \u001b[39mself\u001b[39m\u001b[39m.\u001b[39mmeta\u001b[39m.\u001b[39mdata \u001b[39m=\u001b[39m \u001b[39mNone\u001b[39;00m\n",
      "File \u001b[0;32m~/anaconda3/lib/python3.9/site-packages/boto3/resources/action.py:88\u001b[0m, in \u001b[0;36mServiceAction.__call__\u001b[0;34m(self, parent, *args, **kwargs)\u001b[0m\n\u001b[1;32m     79\u001b[0m params\u001b[39m.\u001b[39mupdate(kwargs)\n\u001b[1;32m     81\u001b[0m logger\u001b[39m.\u001b[39mdebug(\n\u001b[1;32m     82\u001b[0m     \u001b[39m'\u001b[39m\u001b[39mCalling \u001b[39m\u001b[39m%s\u001b[39;00m\u001b[39m:\u001b[39m\u001b[39m%s\u001b[39;00m\u001b[39m with \u001b[39m\u001b[39m%r\u001b[39;00m\u001b[39m'\u001b[39m,\n\u001b[1;32m     83\u001b[0m     parent\u001b[39m.\u001b[39mmeta\u001b[39m.\u001b[39mservice_name,\n\u001b[1;32m     84\u001b[0m     operation_name,\n\u001b[1;32m     85\u001b[0m     params,\n\u001b[1;32m     86\u001b[0m )\n\u001b[0;32m---> 88\u001b[0m response \u001b[39m=\u001b[39m \u001b[39mgetattr\u001b[39;49m(parent\u001b[39m.\u001b[39;49mmeta\u001b[39m.\u001b[39;49mclient, operation_name)(\u001b[39m*\u001b[39;49margs, \u001b[39m*\u001b[39;49m\u001b[39m*\u001b[39;49mparams)\n\u001b[1;32m     90\u001b[0m logger\u001b[39m.\u001b[39mdebug(\u001b[39m'\u001b[39m\u001b[39mResponse: \u001b[39m\u001b[39m%r\u001b[39;00m\u001b[39m'\u001b[39m, response)\n\u001b[1;32m     92\u001b[0m \u001b[39mreturn\u001b[39;00m \u001b[39mself\u001b[39m\u001b[39m.\u001b[39m_response_handler(parent, params, response)\n",
      "File \u001b[0;32m~/anaconda3/lib/python3.9/site-packages/botocore/client.py:401\u001b[0m, in \u001b[0;36mClientCreator._create_api_method.<locals>._api_call\u001b[0;34m(self, *args, **kwargs)\u001b[0m\n\u001b[1;32m    398\u001b[0m     \u001b[39mraise\u001b[39;00m \u001b[39mTypeError\u001b[39;00m(\n\u001b[1;32m    399\u001b[0m         \u001b[39m\"\u001b[39m\u001b[39m%s\u001b[39;00m\u001b[39m() only accepts keyword arguments.\u001b[39m\u001b[39m\"\u001b[39m \u001b[39m%\u001b[39m py_operation_name)\n\u001b[1;32m    400\u001b[0m \u001b[39m# The \"self\" in this scope is referring to the BaseClient.\u001b[39;00m\n\u001b[0;32m--> 401\u001b[0m \u001b[39mreturn\u001b[39;00m \u001b[39mself\u001b[39;49m\u001b[39m.\u001b[39;49m_make_api_call(operation_name, kwargs)\n",
      "File \u001b[0;32m~/anaconda3/lib/python3.9/site-packages/botocore/client.py:731\u001b[0m, in \u001b[0;36mBaseClient._make_api_call\u001b[0;34m(self, operation_name, api_params)\u001b[0m\n\u001b[1;32m    729\u001b[0m     error_code \u001b[39m=\u001b[39m parsed_response\u001b[39m.\u001b[39mget(\u001b[39m\"\u001b[39m\u001b[39mError\u001b[39m\u001b[39m\"\u001b[39m, {})\u001b[39m.\u001b[39mget(\u001b[39m\"\u001b[39m\u001b[39mCode\u001b[39m\u001b[39m\"\u001b[39m)\n\u001b[1;32m    730\u001b[0m     error_class \u001b[39m=\u001b[39m \u001b[39mself\u001b[39m\u001b[39m.\u001b[39mexceptions\u001b[39m.\u001b[39mfrom_code(error_code)\n\u001b[0;32m--> 731\u001b[0m     \u001b[39mraise\u001b[39;00m error_class(parsed_response, operation_name)\n\u001b[1;32m    732\u001b[0m \u001b[39melse\u001b[39;00m:\n\u001b[1;32m    733\u001b[0m     \u001b[39mreturn\u001b[39;00m parsed_response\n",
      "\u001b[0;31mClientError\u001b[0m: An error occurred (InvalidParameterValue) when calling the RunInstances operation: Invalid availability zone: [ap-south-1]"
     ]
    }
   ],
   "source": [
    "\n",
    "create_instance(ec2=ec2, security_group_id=ec2_security_group_id, instance_profile_name='ec2-role-project-sr1-19-7-2022-instance-profile', instance_type='t2.large')"
   ]
  },
  {
   "cell_type": "code",
   "execution_count": null,
   "metadata": {},
   "outputs": [],
   "source": []
  },
  {
   "cell_type": "code",
   "execution_count": null,
   "metadata": {},
   "outputs": [],
   "source": []
  }
 ],
 "metadata": {
  "kernelspec": {
   "display_name": "Python 3.9.7 ('base')",
   "language": "python",
   "name": "python3"
  },
  "language_info": {
   "codemirror_mode": {
    "name": "ipython",
    "version": 3
   },
   "file_extension": ".py",
   "mimetype": "text/x-python",
   "name": "python",
   "nbconvert_exporter": "python",
   "pygments_lexer": "ipython3",
   "version": "3.9.7"
  },
  "orig_nbformat": 4,
  "vscode": {
   "interpreter": {
    "hash": "2e33924f5cad5d014716ef47a4956958652f2e3e756f7b26cc7db08a809e4a3f"
   }
  }
 },
 "nbformat": 4,
 "nbformat_minor": 2
}
